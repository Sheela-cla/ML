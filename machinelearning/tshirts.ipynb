{
 "cells": [
  {
   "cell_type": "code",
   "execution_count": 30,
   "metadata": {},
   "outputs": [],
   "source": [
    "import pandas as pd\n"
   ]
  },
  {
   "cell_type": "code",
   "execution_count": 31,
   "metadata": {},
   "outputs": [],
   "source": [
    "female = pd.read_csv('./female.csv')\n",
    "male = pd.read_csv('./male.csv')"
   ]
  },
  {
   "cell_type": "code",
   "execution_count": 32,
   "metadata": {},
   "outputs": [
    {
     "name": "stdout",
     "output_type": "stream",
     "text": [
      "{(0, 5): np.int64(100), (5, 25): np.int64(396), (25, 50): np.int64(492), (50, 75): np.int64(499), (75, 90): np.int64(299), (90, 97): np.int64(140), (97, 100): np.int64(59)}\n",
      "{(0, 5): np.int64(93), (5, 25): np.int64(377), (25, 50): np.int64(477), (50, 75): np.int64(541), (75, 90): np.int64(297), (90, 97): np.int64(139), (97, 100): np.int64(61)}\n",
      "{(0, 5): np.int64(199), (5, 25): np.int64(810), (25, 50): np.int64(1025), (50, 75): np.int64(1012), (75, 90): np.int64(616), (90, 97): np.int64(295), (97, 100): np.int64(124)}\n",
      "{(0, 5): np.int64(191), (5, 25): np.int64(787), (25, 50): np.int64(989), (50, 75): np.int64(1079), (75, 90): np.int64(610), (90, 97): np.int64(303), (97, 100): np.int64(122)}\n"
     ]
    }
   ],
   "source": [
    "def compute_percentile_ranges(column):\n",
    "    ranges = [(0,5),(5,25),(25,50),(50,75),(75,90),(90,97),(97,100)]\n",
    "    percentiles = {(low,high):(round(column.quantile(low/100).item(), 2), round(column.quantile(high/100).item(), 2)) for low,high in ranges}\n",
    "\n",
    "    counts = {}\n",
    "    for r,(low,high) in percentiles.items():\n",
    "        counts[r]= ((column >= low) & (column < high)).sum()\n",
    "        \n",
    "    return counts\n",
    "\n",
    "   ## print(percentiles)\n",
    "\n",
    "print(compute_percentile_ranges(female['chestcircumference']))\n",
    "print(compute_percentile_ranges(female['biacromialbreadth']))\n",
    "\n",
    "print(compute_percentile_ranges(male['chestcircumference']))\n",
    "print(compute_percentile_ranges(male['biacromialbreadth']))\n",
    "\n",
    "\n"
   ]
  },
  {
   "cell_type": "code",
   "execution_count": 33,
   "metadata": {},
   "outputs": [
    {
     "name": "stdout",
     "output_type": "stream",
     "text": [
      "{'XS': {'chest': 695, 'shoulder': 283}, 'S': {'chest': 824, 'shoulder': 335}, 'M': {'chest': 889, 'shoulder': 353}, 'L': {'chest': 940, 'shoulder': 365}, 'XL': {'chest': 999, 'shoulder': 378}, '2XL': {'chest': 1057, 'shoulder': 389}, '3XL': {'chest': 1117, 'shoulder': 400}}\n",
      "{'XS': {'chest': 774, 'shoulder': 337}, 'S': {'chest': 922, 'shoulder': 384}, 'M': {'chest': 996, 'shoulder': 403}, 'L': {'chest': 1056, 'shoulder': 415}, 'XL': {'chest': 1117, 'shoulder': 428}, '2XL': {'chest': 1172, 'shoulder': 441}, '3XL': {'chest': 1233, 'shoulder': 452}}\n"
     ]
    }
   ],
   "source": [
    "def compute_size_percentile_mesurements(data,chest_column,shoulder_column):\n",
    "    sizes = ['XS','S','M','L','XL','2XL','3XL']\n",
    "    ranges = [0,5,25,50,75,90,97]\n",
    "\n",
    "    #compute the values for each percentile for chest and shoulder\n",
    "    \n",
    "    chest_percentiles = {p:data[chest_column].quantile(p/100) for p in ranges}\n",
    "    shoulder_percentiles = {p:data[shoulder_column].quantile(p/100) for p in ranges}\n",
    " #map the T-Shirt sizes to the corresponding chest and shoulder measurements\n",
    "    size_mappings = {}\n",
    "    for i, size in enumerate(sizes):\n",
    "        size_mappings[size] = {\n",
    "            'chest': int(chest_percentiles[ranges[i]]),\n",
    "            'shoulder': int(shoulder_percentiles[ranges[i]])\n",
    "\n",
    "        }\n",
    "    return size_mappings\n",
    "print(compute_size_percentile_mesurements(female,'chestcircumference','biacromialbreadth'))\n",
    "print(compute_size_percentile_mesurements(male,'chestcircumference','biacromialbreadth'))\n",
    "\n",
    "\n",
    "\n",
    "\n",
    "   # print(chest_percentiles)\n",
    "    #print(shoulder_percentiles)\n",
    "    \n",
    "#compute_size_percentile_mesurements(female,'chestcircumference','biacromialbreadth')\n"
   ]
  },
  {
   "cell_type": "code",
   "execution_count": 38,
   "metadata": {},
   "outputs": [],
   "source": [
    "female_sizes = { 'XS': {'chest': 695, 'shoulder': 283},\n",
    "                 'S': {'chest': 824, 'shoulder': 335}, \n",
    "                 'M': {'chest': 889, 'shoulder': 353},\n",
    "                 'L': {'chest': 940, 'shoulder': 365}, \n",
    "                 'XL': {'chest': 999, 'shoulder': 378}, \n",
    "                 '2XL': {'chest': 1057, 'shoulder': 389}, \n",
    "                 '3XL': {'chest': 1117, 'shoulder': 400}\n",
    "                }\n",
    "male_sizes = { 'XS': {'chest': 774, 'shoulder': 337},\n",
    "               'S': {'chest': 922, 'shoulder': 384},\n",
    "               'M': {'chest': 996, 'shoulder': 403}, \n",
    "               'L': {'chest': 1056, 'shoulder': 415}, \n",
    "               'XL': {'chest': 1117, 'shoulder': 428}, \n",
    "               '2XL': {'chest': 1172, 'shoulder': 441},\n",
    "               '3XL': {'chest': 1233, 'shoulder': 452}\n",
    "            }\n"
   ]
  },
  {
   "cell_type": "code",
   "execution_count": 39,
   "metadata": {},
   "outputs": [],
   "source": [
    "def get_sizes(data,size_chart):\n",
    "    matches = {size: 0 for size in size_chart.keys()}\n",
    "    ties = 0\n",
    "\n",
    "    for _, row in data.iterrows():\n",
    "        possible_sizes = []\n",
    "    \n",
    "        for size, mesurements in size_chart.items():\n",
    "            if (row['biacromialbreadth'] <= mesurements['shoulder'] and \n",
    "                row ['chestcircumference'] <= mesurements['chest']):\n",
    "                possible_sizes.append(size)\n",
    "\n",
    "        if len(possible_sizes) == 1:\n",
    "            matches[possible_sizes[0]] += 1\n",
    "        elif len(possible_sizes) > 1:\n",
    "            ties += 1\n",
    "    return matches, ties"
   ]
  },
  {
   "cell_type": "code",
   "execution_count": 40,
   "metadata": {},
   "outputs": [
    {
     "name": "stdout",
     "output_type": "stream",
     "text": [
      "female matches: {'XS': 0, 'S': 0, 'M': 0, 'L': 0, 'XL': 0, '2XL': 0, '3XL': 236}\n",
      "female ties: 1642\n",
      "male matches: {'XS': 0, 'S': 0, 'M': 0, 'L': 0, 'XL': 0, '2XL': 0, '3XL': 434}\n",
      "male ties: 3437\n"
     ]
    }
   ],
   "source": [
    "female_matches,female_ties = get_sizes(female,female_sizes)\n",
    "male_matches, male_ties = get_sizes(male,male_sizes)\n",
    "\n",
    "print('female matches:',female_matches)\n",
    "print('female ties:',female_ties)\n",
    "print('male matches:', male_matches)\n",
    "print('male ties:', male_ties)"
   ]
  },
  {
   "cell_type": "code",
   "execution_count": null,
   "metadata": {},
   "outputs": [],
   "source": [
    "def create_overlapping_size_chart(original_chart):\n",
    "    overlapping_chart = {}\n",
    "\n",
    "    sizes = list(original_chart.keys())\n",
    "\n",
    "    for i, sizes in enumerate(sizes):\n",
    "        overlapping_chart[sizes] = {}\n",
    "        if i == 0:\n",
    "            overlapping_chart[sizes]['chest'] = [original_chart[sizes]['chest'], original_chart[sizes[i+1]['chest']]+5]\n",
    "            overlapping_chart[sizes]['shoulder'] = [original_chart[sizes]['shoulder'], original_chart[sizes[i+1]['shoulder']]+5]\n",
    "        elif i == len(sizes)-1:\n",
    "            overlapping_chart[sizes]['chest'] = [original_chart[sizes]['chest']-5, original_chart[sizes]['chest']+1000]\n",
    "            overlapping_chart[sizes]['shoulder'] = [original_chart[sizes]['shoulder']-5, original_chart[sizes]['shoulder']+1000]\n",
    "        else:\n",
    "            overlapping_chart[sizes]['chest'] = [original_chart[sizes]['chest']-5, original_chart[sizes[i+1]['chest']]+5]\n",
    "             overlapping_chart[sizes]['shoulder'] = [original_chart[sizes]['shoulder']-5, original_chart[sizes[i+1]['shoulder']]+5]"
   ]
  }
 ],
 "metadata": {
  "kernelspec": {
   "display_name": "myenv",
   "language": "python",
   "name": "python3"
  },
  "language_info": {
   "codemirror_mode": {
    "name": "ipython",
    "version": 3
   },
   "file_extension": ".py",
   "mimetype": "text/x-python",
   "name": "python",
   "nbconvert_exporter": "python",
   "pygments_lexer": "ipython3",
   "version": "3.12.3"
  }
 },
 "nbformat": 4,
 "nbformat_minor": 2
}
